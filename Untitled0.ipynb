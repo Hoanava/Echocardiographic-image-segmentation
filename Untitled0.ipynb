{
  "nbformat": 4,
  "nbformat_minor": 0,
  "metadata": {
    "colab": {
      "name": "Untitled0.ipynb",
      "provenance": [],
      "include_colab_link": true
    },
    "kernelspec": {
      "name": "python3",
      "display_name": "Python 3"
    },
    "language_info": {
      "name": "python"
    },
    "accelerator": "GPU",
    "widgets": {
      "application/vnd.jupyter.widget-state+json": {
        "55bed4a96e654b87969a28a141dbfd04": {
          "model_module": "@jupyter-widgets/controls",
          "model_name": "HBoxModel",
          "model_module_version": "1.5.0",
          "state": {
            "_view_name": "HBoxView",
            "_dom_classes": [],
            "_model_name": "HBoxModel",
            "_view_module": "@jupyter-widgets/controls",
            "_model_module_version": "1.5.0",
            "_view_count": null,
            "_view_module_version": "1.5.0",
            "box_style": "",
            "layout": "IPY_MODEL_4c8d1c89b4774957b703fcdc02e6879e",
            "_model_module": "@jupyter-widgets/controls",
            "children": [
              "IPY_MODEL_bbc3d0dbf7cf4a8a8881864f3820c3ca",
              "IPY_MODEL_667829a449e642988ce805a51bf143c9",
              "IPY_MODEL_edbd80a2d7fe4bc6aa780d00577b04bc"
            ]
          }
        },
        "4c8d1c89b4774957b703fcdc02e6879e": {
          "model_module": "@jupyter-widgets/base",
          "model_name": "LayoutModel",
          "model_module_version": "1.2.0",
          "state": {
            "_view_name": "LayoutView",
            "grid_template_rows": null,
            "right": null,
            "justify_content": null,
            "_view_module": "@jupyter-widgets/base",
            "overflow": null,
            "_model_module_version": "1.2.0",
            "_view_count": null,
            "flex_flow": null,
            "width": null,
            "min_width": null,
            "border": null,
            "align_items": null,
            "bottom": null,
            "_model_module": "@jupyter-widgets/base",
            "top": null,
            "grid_column": null,
            "overflow_y": null,
            "overflow_x": null,
            "grid_auto_flow": null,
            "grid_area": null,
            "grid_template_columns": null,
            "flex": null,
            "_model_name": "LayoutModel",
            "justify_items": null,
            "grid_row": null,
            "max_height": null,
            "align_content": null,
            "visibility": null,
            "align_self": null,
            "height": null,
            "min_height": null,
            "padding": null,
            "grid_auto_rows": null,
            "grid_gap": null,
            "max_width": null,
            "order": null,
            "_view_module_version": "1.2.0",
            "grid_template_areas": null,
            "object_position": null,
            "object_fit": null,
            "grid_auto_columns": null,
            "margin": null,
            "display": null,
            "left": null
          }
        },
        "bbc3d0dbf7cf4a8a8881864f3820c3ca": {
          "model_module": "@jupyter-widgets/controls",
          "model_name": "HTMLModel",
          "model_module_version": "1.5.0",
          "state": {
            "_view_name": "HTMLView",
            "style": "IPY_MODEL_f30513c1b3674590948c68c6d020b53e",
            "_dom_classes": [],
            "description": "",
            "_model_name": "HTMLModel",
            "placeholder": "​",
            "_view_module": "@jupyter-widgets/controls",
            "_model_module_version": "1.5.0",
            "value": "100%",
            "_view_count": null,
            "_view_module_version": "1.5.0",
            "description_tooltip": null,
            "_model_module": "@jupyter-widgets/controls",
            "layout": "IPY_MODEL_4086e21f82074bbda85b61e8c26e57a8"
          }
        },
        "667829a449e642988ce805a51bf143c9": {
          "model_module": "@jupyter-widgets/controls",
          "model_name": "FloatProgressModel",
          "model_module_version": "1.5.0",
          "state": {
            "_view_name": "ProgressView",
            "style": "IPY_MODEL_9525b540c417424a9da8af091db5b930",
            "_dom_classes": [],
            "description": "",
            "_model_name": "FloatProgressModel",
            "bar_style": "success",
            "max": 102530333,
            "_view_module": "@jupyter-widgets/controls",
            "_model_module_version": "1.5.0",
            "value": 102530333,
            "_view_count": null,
            "_view_module_version": "1.5.0",
            "orientation": "horizontal",
            "min": 0,
            "description_tooltip": null,
            "_model_module": "@jupyter-widgets/controls",
            "layout": "IPY_MODEL_c0b5a0aef5404f49b8b73608a5efa15b"
          }
        },
        "edbd80a2d7fe4bc6aa780d00577b04bc": {
          "model_module": "@jupyter-widgets/controls",
          "model_name": "HTMLModel",
          "model_module_version": "1.5.0",
          "state": {
            "_view_name": "HTMLView",
            "style": "IPY_MODEL_987894395a5941c6b7b4686eca73e06e",
            "_dom_classes": [],
            "description": "",
            "_model_name": "HTMLModel",
            "placeholder": "​",
            "_view_module": "@jupyter-widgets/controls",
            "_model_module_version": "1.5.0",
            "value": " 97.8M/97.8M [00:01&lt;00:00, 98.2MB/s]",
            "_view_count": null,
            "_view_module_version": "1.5.0",
            "description_tooltip": null,
            "_model_module": "@jupyter-widgets/controls",
            "layout": "IPY_MODEL_5157a29bf32c485c8b26e22511be71f7"
          }
        },
        "f30513c1b3674590948c68c6d020b53e": {
          "model_module": "@jupyter-widgets/controls",
          "model_name": "DescriptionStyleModel",
          "model_module_version": "1.5.0",
          "state": {
            "_view_name": "StyleView",
            "_model_name": "DescriptionStyleModel",
            "description_width": "",
            "_view_module": "@jupyter-widgets/base",
            "_model_module_version": "1.5.0",
            "_view_count": null,
            "_view_module_version": "1.2.0",
            "_model_module": "@jupyter-widgets/controls"
          }
        },
        "4086e21f82074bbda85b61e8c26e57a8": {
          "model_module": "@jupyter-widgets/base",
          "model_name": "LayoutModel",
          "model_module_version": "1.2.0",
          "state": {
            "_view_name": "LayoutView",
            "grid_template_rows": null,
            "right": null,
            "justify_content": null,
            "_view_module": "@jupyter-widgets/base",
            "overflow": null,
            "_model_module_version": "1.2.0",
            "_view_count": null,
            "flex_flow": null,
            "width": null,
            "min_width": null,
            "border": null,
            "align_items": null,
            "bottom": null,
            "_model_module": "@jupyter-widgets/base",
            "top": null,
            "grid_column": null,
            "overflow_y": null,
            "overflow_x": null,
            "grid_auto_flow": null,
            "grid_area": null,
            "grid_template_columns": null,
            "flex": null,
            "_model_name": "LayoutModel",
            "justify_items": null,
            "grid_row": null,
            "max_height": null,
            "align_content": null,
            "visibility": null,
            "align_self": null,
            "height": null,
            "min_height": null,
            "padding": null,
            "grid_auto_rows": null,
            "grid_gap": null,
            "max_width": null,
            "order": null,
            "_view_module_version": "1.2.0",
            "grid_template_areas": null,
            "object_position": null,
            "object_fit": null,
            "grid_auto_columns": null,
            "margin": null,
            "display": null,
            "left": null
          }
        },
        "9525b540c417424a9da8af091db5b930": {
          "model_module": "@jupyter-widgets/controls",
          "model_name": "ProgressStyleModel",
          "model_module_version": "1.5.0",
          "state": {
            "_view_name": "StyleView",
            "_model_name": "ProgressStyleModel",
            "description_width": "",
            "_view_module": "@jupyter-widgets/base",
            "_model_module_version": "1.5.0",
            "_view_count": null,
            "_view_module_version": "1.2.0",
            "bar_color": null,
            "_model_module": "@jupyter-widgets/controls"
          }
        },
        "c0b5a0aef5404f49b8b73608a5efa15b": {
          "model_module": "@jupyter-widgets/base",
          "model_name": "LayoutModel",
          "model_module_version": "1.2.0",
          "state": {
            "_view_name": "LayoutView",
            "grid_template_rows": null,
            "right": null,
            "justify_content": null,
            "_view_module": "@jupyter-widgets/base",
            "overflow": null,
            "_model_module_version": "1.2.0",
            "_view_count": null,
            "flex_flow": null,
            "width": null,
            "min_width": null,
            "border": null,
            "align_items": null,
            "bottom": null,
            "_model_module": "@jupyter-widgets/base",
            "top": null,
            "grid_column": null,
            "overflow_y": null,
            "overflow_x": null,
            "grid_auto_flow": null,
            "grid_area": null,
            "grid_template_columns": null,
            "flex": null,
            "_model_name": "LayoutModel",
            "justify_items": null,
            "grid_row": null,
            "max_height": null,
            "align_content": null,
            "visibility": null,
            "align_self": null,
            "height": null,
            "min_height": null,
            "padding": null,
            "grid_auto_rows": null,
            "grid_gap": null,
            "max_width": null,
            "order": null,
            "_view_module_version": "1.2.0",
            "grid_template_areas": null,
            "object_position": null,
            "object_fit": null,
            "grid_auto_columns": null,
            "margin": null,
            "display": null,
            "left": null
          }
        },
        "987894395a5941c6b7b4686eca73e06e": {
          "model_module": "@jupyter-widgets/controls",
          "model_name": "DescriptionStyleModel",
          "model_module_version": "1.5.0",
          "state": {
            "_view_name": "StyleView",
            "_model_name": "DescriptionStyleModel",
            "description_width": "",
            "_view_module": "@jupyter-widgets/base",
            "_model_module_version": "1.5.0",
            "_view_count": null,
            "_view_module_version": "1.2.0",
            "_model_module": "@jupyter-widgets/controls"
          }
        },
        "5157a29bf32c485c8b26e22511be71f7": {
          "model_module": "@jupyter-widgets/base",
          "model_name": "LayoutModel",
          "model_module_version": "1.2.0",
          "state": {
            "_view_name": "LayoutView",
            "grid_template_rows": null,
            "right": null,
            "justify_content": null,
            "_view_module": "@jupyter-widgets/base",
            "overflow": null,
            "_model_module_version": "1.2.0",
            "_view_count": null,
            "flex_flow": null,
            "width": null,
            "min_width": null,
            "border": null,
            "align_items": null,
            "bottom": null,
            "_model_module": "@jupyter-widgets/base",
            "top": null,
            "grid_column": null,
            "overflow_y": null,
            "overflow_x": null,
            "grid_auto_flow": null,
            "grid_area": null,
            "grid_template_columns": null,
            "flex": null,
            "_model_name": "LayoutModel",
            "justify_items": null,
            "grid_row": null,
            "max_height": null,
            "align_content": null,
            "visibility": null,
            "align_self": null,
            "height": null,
            "min_height": null,
            "padding": null,
            "grid_auto_rows": null,
            "grid_gap": null,
            "max_width": null,
            "order": null,
            "_view_module_version": "1.2.0",
            "grid_template_areas": null,
            "object_position": null,
            "object_fit": null,
            "grid_auto_columns": null,
            "margin": null,
            "display": null,
            "left": null
          }
        },
        "22058224c7d747e59703f9b06dcdd05d": {
          "model_module": "@jupyter-widgets/controls",
          "model_name": "HBoxModel",
          "model_module_version": "1.5.0",
          "state": {
            "_view_name": "HBoxView",
            "_dom_classes": [],
            "_model_name": "HBoxModel",
            "_view_module": "@jupyter-widgets/controls",
            "_model_module_version": "1.5.0",
            "_view_count": null,
            "_view_module_version": "1.5.0",
            "box_style": "",
            "layout": "IPY_MODEL_a279d28652744d26a4ba8af2cf223524",
            "_model_module": "@jupyter-widgets/controls",
            "children": [
              "IPY_MODEL_e7f48e4c5c1f47d3b98c8e6d299864d7",
              "IPY_MODEL_a794ffcd6c8443b785585e9fe79f733c",
              "IPY_MODEL_1910681776d14fa3924da15a7edabe1b"
            ]
          }
        },
        "a279d28652744d26a4ba8af2cf223524": {
          "model_module": "@jupyter-widgets/base",
          "model_name": "LayoutModel",
          "model_module_version": "1.2.0",
          "state": {
            "_view_name": "LayoutView",
            "grid_template_rows": null,
            "right": null,
            "justify_content": null,
            "_view_module": "@jupyter-widgets/base",
            "overflow": null,
            "_model_module_version": "1.2.0",
            "_view_count": null,
            "flex_flow": null,
            "width": null,
            "min_width": null,
            "border": null,
            "align_items": null,
            "bottom": null,
            "_model_module": "@jupyter-widgets/base",
            "top": null,
            "grid_column": null,
            "overflow_y": null,
            "overflow_x": null,
            "grid_auto_flow": null,
            "grid_area": null,
            "grid_template_columns": null,
            "flex": null,
            "_model_name": "LayoutModel",
            "justify_items": null,
            "grid_row": null,
            "max_height": null,
            "align_content": null,
            "visibility": null,
            "align_self": null,
            "height": null,
            "min_height": null,
            "padding": null,
            "grid_auto_rows": null,
            "grid_gap": null,
            "max_width": null,
            "order": null,
            "_view_module_version": "1.2.0",
            "grid_template_areas": null,
            "object_position": null,
            "object_fit": null,
            "grid_auto_columns": null,
            "margin": null,
            "display": null,
            "left": null
          }
        },
        "e7f48e4c5c1f47d3b98c8e6d299864d7": {
          "model_module": "@jupyter-widgets/controls",
          "model_name": "HTMLModel",
          "model_module_version": "1.5.0",
          "state": {
            "_view_name": "HTMLView",
            "style": "IPY_MODEL_27d4474d81594a0fa77a63cd70cae375",
            "_dom_classes": [],
            "description": "",
            "_model_name": "HTMLModel",
            "placeholder": "​",
            "_view_module": "@jupyter-widgets/controls",
            "_model_module_version": "1.5.0",
            "value": "100%",
            "_view_count": null,
            "_view_module_version": "1.5.0",
            "description_tooltip": null,
            "_model_module": "@jupyter-widgets/controls",
            "layout": "IPY_MODEL_1ef1a6126405411ab342450eee6bf149"
          }
        },
        "a794ffcd6c8443b785585e9fe79f733c": {
          "model_module": "@jupyter-widgets/controls",
          "model_name": "FloatProgressModel",
          "model_module_version": "1.5.0",
          "state": {
            "_view_name": "ProgressView",
            "style": "IPY_MODEL_67f096ca1bab4d44ac118100433a61c5",
            "_dom_classes": [],
            "description": "",
            "_model_name": "FloatProgressModel",
            "bar_style": "success",
            "max": 553507836,
            "_view_module": "@jupyter-widgets/controls",
            "_model_module_version": "1.5.0",
            "value": 553507836,
            "_view_count": null,
            "_view_module_version": "1.5.0",
            "orientation": "horizontal",
            "min": 0,
            "description_tooltip": null,
            "_model_module": "@jupyter-widgets/controls",
            "layout": "IPY_MODEL_9b24a6a317b74f5aa998efadf7dd73b5"
          }
        },
        "1910681776d14fa3924da15a7edabe1b": {
          "model_module": "@jupyter-widgets/controls",
          "model_name": "HTMLModel",
          "model_module_version": "1.5.0",
          "state": {
            "_view_name": "HTMLView",
            "style": "IPY_MODEL_49e9b17c41314654ad0246d0d9fab7ee",
            "_dom_classes": [],
            "description": "",
            "_model_name": "HTMLModel",
            "placeholder": "​",
            "_view_module": "@jupyter-widgets/controls",
            "_model_module_version": "1.5.0",
            "value": " 528M/528M [00:11&lt;00:00, 42.2MB/s]",
            "_view_count": null,
            "_view_module_version": "1.5.0",
            "description_tooltip": null,
            "_model_module": "@jupyter-widgets/controls",
            "layout": "IPY_MODEL_4efddbe5d610446284c511c8a29320bc"
          }
        },
        "27d4474d81594a0fa77a63cd70cae375": {
          "model_module": "@jupyter-widgets/controls",
          "model_name": "DescriptionStyleModel",
          "model_module_version": "1.5.0",
          "state": {
            "_view_name": "StyleView",
            "_model_name": "DescriptionStyleModel",
            "description_width": "",
            "_view_module": "@jupyter-widgets/base",
            "_model_module_version": "1.5.0",
            "_view_count": null,
            "_view_module_version": "1.2.0",
            "_model_module": "@jupyter-widgets/controls"
          }
        },
        "1ef1a6126405411ab342450eee6bf149": {
          "model_module": "@jupyter-widgets/base",
          "model_name": "LayoutModel",
          "model_module_version": "1.2.0",
          "state": {
            "_view_name": "LayoutView",
            "grid_template_rows": null,
            "right": null,
            "justify_content": null,
            "_view_module": "@jupyter-widgets/base",
            "overflow": null,
            "_model_module_version": "1.2.0",
            "_view_count": null,
            "flex_flow": null,
            "width": null,
            "min_width": null,
            "border": null,
            "align_items": null,
            "bottom": null,
            "_model_module": "@jupyter-widgets/base",
            "top": null,
            "grid_column": null,
            "overflow_y": null,
            "overflow_x": null,
            "grid_auto_flow": null,
            "grid_area": null,
            "grid_template_columns": null,
            "flex": null,
            "_model_name": "LayoutModel",
            "justify_items": null,
            "grid_row": null,
            "max_height": null,
            "align_content": null,
            "visibility": null,
            "align_self": null,
            "height": null,
            "min_height": null,
            "padding": null,
            "grid_auto_rows": null,
            "grid_gap": null,
            "max_width": null,
            "order": null,
            "_view_module_version": "1.2.0",
            "grid_template_areas": null,
            "object_position": null,
            "object_fit": null,
            "grid_auto_columns": null,
            "margin": null,
            "display": null,
            "left": null
          }
        },
        "67f096ca1bab4d44ac118100433a61c5": {
          "model_module": "@jupyter-widgets/controls",
          "model_name": "ProgressStyleModel",
          "model_module_version": "1.5.0",
          "state": {
            "_view_name": "StyleView",
            "_model_name": "ProgressStyleModel",
            "description_width": "",
            "_view_module": "@jupyter-widgets/base",
            "_model_module_version": "1.5.0",
            "_view_count": null,
            "_view_module_version": "1.2.0",
            "bar_color": null,
            "_model_module": "@jupyter-widgets/controls"
          }
        },
        "9b24a6a317b74f5aa998efadf7dd73b5": {
          "model_module": "@jupyter-widgets/base",
          "model_name": "LayoutModel",
          "model_module_version": "1.2.0",
          "state": {
            "_view_name": "LayoutView",
            "grid_template_rows": null,
            "right": null,
            "justify_content": null,
            "_view_module": "@jupyter-widgets/base",
            "overflow": null,
            "_model_module_version": "1.2.0",
            "_view_count": null,
            "flex_flow": null,
            "width": null,
            "min_width": null,
            "border": null,
            "align_items": null,
            "bottom": null,
            "_model_module": "@jupyter-widgets/base",
            "top": null,
            "grid_column": null,
            "overflow_y": null,
            "overflow_x": null,
            "grid_auto_flow": null,
            "grid_area": null,
            "grid_template_columns": null,
            "flex": null,
            "_model_name": "LayoutModel",
            "justify_items": null,
            "grid_row": null,
            "max_height": null,
            "align_content": null,
            "visibility": null,
            "align_self": null,
            "height": null,
            "min_height": null,
            "padding": null,
            "grid_auto_rows": null,
            "grid_gap": null,
            "max_width": null,
            "order": null,
            "_view_module_version": "1.2.0",
            "grid_template_areas": null,
            "object_position": null,
            "object_fit": null,
            "grid_auto_columns": null,
            "margin": null,
            "display": null,
            "left": null
          }
        },
        "49e9b17c41314654ad0246d0d9fab7ee": {
          "model_module": "@jupyter-widgets/controls",
          "model_name": "DescriptionStyleModel",
          "model_module_version": "1.5.0",
          "state": {
            "_view_name": "StyleView",
            "_model_name": "DescriptionStyleModel",
            "description_width": "",
            "_view_module": "@jupyter-widgets/base",
            "_model_module_version": "1.5.0",
            "_view_count": null,
            "_view_module_version": "1.2.0",
            "_model_module": "@jupyter-widgets/controls"
          }
        },
        "4efddbe5d610446284c511c8a29320bc": {
          "model_module": "@jupyter-widgets/base",
          "model_name": "LayoutModel",
          "model_module_version": "1.2.0",
          "state": {
            "_view_name": "LayoutView",
            "grid_template_rows": null,
            "right": null,
            "justify_content": null,
            "_view_module": "@jupyter-widgets/base",
            "overflow": null,
            "_model_module_version": "1.2.0",
            "_view_count": null,
            "flex_flow": null,
            "width": null,
            "min_width": null,
            "border": null,
            "align_items": null,
            "bottom": null,
            "_model_module": "@jupyter-widgets/base",
            "top": null,
            "grid_column": null,
            "overflow_y": null,
            "overflow_x": null,
            "grid_auto_flow": null,
            "grid_area": null,
            "grid_template_columns": null,
            "flex": null,
            "_model_name": "LayoutModel",
            "justify_items": null,
            "grid_row": null,
            "max_height": null,
            "align_content": null,
            "visibility": null,
            "align_self": null,
            "height": null,
            "min_height": null,
            "padding": null,
            "grid_auto_rows": null,
            "grid_gap": null,
            "max_width": null,
            "order": null,
            "_view_module_version": "1.2.0",
            "grid_template_areas": null,
            "object_position": null,
            "object_fit": null,
            "grid_auto_columns": null,
            "margin": null,
            "display": null,
            "left": null
          }
        },
        "2e6082e813cb4b0f9d0236be811d0d09": {
          "model_module": "@jupyter-widgets/controls",
          "model_name": "HBoxModel",
          "model_module_version": "1.5.0",
          "state": {
            "_view_name": "HBoxView",
            "_dom_classes": [],
            "_model_name": "HBoxModel",
            "_view_module": "@jupyter-widgets/controls",
            "_model_module_version": "1.5.0",
            "_view_count": null,
            "_view_module_version": "1.5.0",
            "box_style": "",
            "layout": "IPY_MODEL_5885d33322c44bd596fd42d867d00e96",
            "_model_module": "@jupyter-widgets/controls",
            "children": [
              "IPY_MODEL_24a43b1f74d94a5fafac066f971ce912",
              "IPY_MODEL_9200c532911648a19e6ba4a99565f69d",
              "IPY_MODEL_a43cee2944d54ae6a1bf9e5cb16645ff"
            ]
          }
        },
        "5885d33322c44bd596fd42d867d00e96": {
          "model_module": "@jupyter-widgets/base",
          "model_name": "LayoutModel",
          "model_module_version": "1.2.0",
          "state": {
            "_view_name": "LayoutView",
            "grid_template_rows": null,
            "right": null,
            "justify_content": null,
            "_view_module": "@jupyter-widgets/base",
            "overflow": null,
            "_model_module_version": "1.2.0",
            "_view_count": null,
            "flex_flow": null,
            "width": null,
            "min_width": null,
            "border": null,
            "align_items": null,
            "bottom": null,
            "_model_module": "@jupyter-widgets/base",
            "top": null,
            "grid_column": null,
            "overflow_y": null,
            "overflow_x": null,
            "grid_auto_flow": null,
            "grid_area": null,
            "grid_template_columns": null,
            "flex": null,
            "_model_name": "LayoutModel",
            "justify_items": null,
            "grid_row": null,
            "max_height": null,
            "align_content": null,
            "visibility": null,
            "align_self": null,
            "height": null,
            "min_height": null,
            "padding": null,
            "grid_auto_rows": null,
            "grid_gap": null,
            "max_width": null,
            "order": null,
            "_view_module_version": "1.2.0",
            "grid_template_areas": null,
            "object_position": null,
            "object_fit": null,
            "grid_auto_columns": null,
            "margin": null,
            "display": null,
            "left": null
          }
        },
        "24a43b1f74d94a5fafac066f971ce912": {
          "model_module": "@jupyter-widgets/controls",
          "model_name": "HTMLModel",
          "model_module_version": "1.5.0",
          "state": {
            "_view_name": "HTMLView",
            "style": "IPY_MODEL_bcf2bd47415249dd8cadaaf80ad58355",
            "_dom_classes": [],
            "description": "",
            "_model_name": "HTMLModel",
            "placeholder": "​",
            "_view_module": "@jupyter-widgets/controls",
            "_model_module_version": "1.5.0",
            "value": "100%",
            "_view_count": null,
            "_view_module_version": "1.5.0",
            "description_tooltip": null,
            "_model_module": "@jupyter-widgets/controls",
            "layout": "IPY_MODEL_c8da982cb31a4196843d602d1f730a96"
          }
        },
        "9200c532911648a19e6ba4a99565f69d": {
          "model_module": "@jupyter-widgets/controls",
          "model_name": "FloatProgressModel",
          "model_module_version": "1.5.0",
          "state": {
            "_view_name": "ProgressView",
            "style": "IPY_MODEL_e1732e8b9a3d49d1a1b335f3cc73306a",
            "_dom_classes": [],
            "description": "",
            "_model_name": "FloatProgressModel",
            "bar_style": "success",
            "max": 32342954,
            "_view_module": "@jupyter-widgets/controls",
            "_model_module_version": "1.5.0",
            "value": 32342954,
            "_view_count": null,
            "_view_module_version": "1.5.0",
            "orientation": "horizontal",
            "min": 0,
            "description_tooltip": null,
            "_model_module": "@jupyter-widgets/controls",
            "layout": "IPY_MODEL_155e5f7a621b4616a48c77670d76292d"
          }
        },
        "a43cee2944d54ae6a1bf9e5cb16645ff": {
          "model_module": "@jupyter-widgets/controls",
          "model_name": "HTMLModel",
          "model_module_version": "1.5.0",
          "state": {
            "_view_name": "HTMLView",
            "style": "IPY_MODEL_52cac379fb0e4cc28e4a97fd587fa45b",
            "_dom_classes": [],
            "description": "",
            "_model_name": "HTMLModel",
            "placeholder": "​",
            "_view_module": "@jupyter-widgets/controls",
            "_model_module_version": "1.5.0",
            "value": " 30.8M/30.8M [00:00&lt;00:00, 40.2MB/s]",
            "_view_count": null,
            "_view_module_version": "1.5.0",
            "description_tooltip": null,
            "_model_module": "@jupyter-widgets/controls",
            "layout": "IPY_MODEL_ffe1a065ee10480587063e7f93c99845"
          }
        },
        "bcf2bd47415249dd8cadaaf80ad58355": {
          "model_module": "@jupyter-widgets/controls",
          "model_name": "DescriptionStyleModel",
          "model_module_version": "1.5.0",
          "state": {
            "_view_name": "StyleView",
            "_model_name": "DescriptionStyleModel",
            "description_width": "",
            "_view_module": "@jupyter-widgets/base",
            "_model_module_version": "1.5.0",
            "_view_count": null,
            "_view_module_version": "1.2.0",
            "_model_module": "@jupyter-widgets/controls"
          }
        },
        "c8da982cb31a4196843d602d1f730a96": {
          "model_module": "@jupyter-widgets/base",
          "model_name": "LayoutModel",
          "model_module_version": "1.2.0",
          "state": {
            "_view_name": "LayoutView",
            "grid_template_rows": null,
            "right": null,
            "justify_content": null,
            "_view_module": "@jupyter-widgets/base",
            "overflow": null,
            "_model_module_version": "1.2.0",
            "_view_count": null,
            "flex_flow": null,
            "width": null,
            "min_width": null,
            "border": null,
            "align_items": null,
            "bottom": null,
            "_model_module": "@jupyter-widgets/base",
            "top": null,
            "grid_column": null,
            "overflow_y": null,
            "overflow_x": null,
            "grid_auto_flow": null,
            "grid_area": null,
            "grid_template_columns": null,
            "flex": null,
            "_model_name": "LayoutModel",
            "justify_items": null,
            "grid_row": null,
            "max_height": null,
            "align_content": null,
            "visibility": null,
            "align_self": null,
            "height": null,
            "min_height": null,
            "padding": null,
            "grid_auto_rows": null,
            "grid_gap": null,
            "max_width": null,
            "order": null,
            "_view_module_version": "1.2.0",
            "grid_template_areas": null,
            "object_position": null,
            "object_fit": null,
            "grid_auto_columns": null,
            "margin": null,
            "display": null,
            "left": null
          }
        },
        "e1732e8b9a3d49d1a1b335f3cc73306a": {
          "model_module": "@jupyter-widgets/controls",
          "model_name": "ProgressStyleModel",
          "model_module_version": "1.5.0",
          "state": {
            "_view_name": "StyleView",
            "_model_name": "ProgressStyleModel",
            "description_width": "",
            "_view_module": "@jupyter-widgets/base",
            "_model_module_version": "1.5.0",
            "_view_count": null,
            "_view_module_version": "1.2.0",
            "bar_color": null,
            "_model_module": "@jupyter-widgets/controls"
          }
        },
        "155e5f7a621b4616a48c77670d76292d": {
          "model_module": "@jupyter-widgets/base",
          "model_name": "LayoutModel",
          "model_module_version": "1.2.0",
          "state": {
            "_view_name": "LayoutView",
            "grid_template_rows": null,
            "right": null,
            "justify_content": null,
            "_view_module": "@jupyter-widgets/base",
            "overflow": null,
            "_model_module_version": "1.2.0",
            "_view_count": null,
            "flex_flow": null,
            "width": null,
            "min_width": null,
            "border": null,
            "align_items": null,
            "bottom": null,
            "_model_module": "@jupyter-widgets/base",
            "top": null,
            "grid_column": null,
            "overflow_y": null,
            "overflow_x": null,
            "grid_auto_flow": null,
            "grid_area": null,
            "grid_template_columns": null,
            "flex": null,
            "_model_name": "LayoutModel",
            "justify_items": null,
            "grid_row": null,
            "max_height": null,
            "align_content": null,
            "visibility": null,
            "align_self": null,
            "height": null,
            "min_height": null,
            "padding": null,
            "grid_auto_rows": null,
            "grid_gap": null,
            "max_width": null,
            "order": null,
            "_view_module_version": "1.2.0",
            "grid_template_areas": null,
            "object_position": null,
            "object_fit": null,
            "grid_auto_columns": null,
            "margin": null,
            "display": null,
            "left": null
          }
        },
        "52cac379fb0e4cc28e4a97fd587fa45b": {
          "model_module": "@jupyter-widgets/controls",
          "model_name": "DescriptionStyleModel",
          "model_module_version": "1.5.0",
          "state": {
            "_view_name": "StyleView",
            "_model_name": "DescriptionStyleModel",
            "description_width": "",
            "_view_module": "@jupyter-widgets/base",
            "_model_module_version": "1.5.0",
            "_view_count": null,
            "_view_module_version": "1.2.0",
            "_model_module": "@jupyter-widgets/controls"
          }
        },
        "ffe1a065ee10480587063e7f93c99845": {
          "model_module": "@jupyter-widgets/base",
          "model_name": "LayoutModel",
          "model_module_version": "1.2.0",
          "state": {
            "_view_name": "LayoutView",
            "grid_template_rows": null,
            "right": null,
            "justify_content": null,
            "_view_module": "@jupyter-widgets/base",
            "overflow": null,
            "_model_module_version": "1.2.0",
            "_view_count": null,
            "flex_flow": null,
            "width": null,
            "min_width": null,
            "border": null,
            "align_items": null,
            "bottom": null,
            "_model_module": "@jupyter-widgets/base",
            "top": null,
            "grid_column": null,
            "overflow_y": null,
            "overflow_x": null,
            "grid_auto_flow": null,
            "grid_area": null,
            "grid_template_columns": null,
            "flex": null,
            "_model_name": "LayoutModel",
            "justify_items": null,
            "grid_row": null,
            "max_height": null,
            "align_content": null,
            "visibility": null,
            "align_self": null,
            "height": null,
            "min_height": null,
            "padding": null,
            "grid_auto_rows": null,
            "grid_gap": null,
            "max_width": null,
            "order": null,
            "_view_module_version": "1.2.0",
            "grid_template_areas": null,
            "object_position": null,
            "object_fit": null,
            "grid_auto_columns": null,
            "margin": null,
            "display": null,
            "left": null
          }
        }
      }
    }
  },
  "cells": [
    {
      "cell_type": "markdown",
      "metadata": {
        "id": "view-in-github",
        "colab_type": "text"
      },
      "source": [
        "<a href=\"https://colab.research.google.com/github/Hoanava/Echocardiographic-image-segmentation/blob/main/Untitled0.ipynb\" target=\"_parent\"><img src=\"https://colab.research.google.com/assets/colab-badge.svg\" alt=\"Open In Colab\"/></a>"
      ]
    },
    {
      "cell_type": "markdown",
      "metadata": {
        "id": "wz-ju92JI6pz"
      },
      "source": [
        "# Thư viện"
      ]
    },
    {
      "cell_type": "code",
      "metadata": {
        "colab": {
          "base_uri": "https://localhost:8080/"
        },
        "id": "ZTmPseIPtqzM",
        "outputId": "0a36ec83-12ef-44ac-a94b-794594e41cb3"
      },
      "source": [
        "import torch\n",
        "import torch.nn as nn\n",
        "from torch.nn import functional as F\n",
        "import torch.optim as optim\n",
        "from torch.optim import lr_scheduler\n",
        "from torch.autograd import Variable\n",
        "import numpy as np\n",
        "import torchvision\n",
        "from torchvision import datasets, models, transforms\n",
        "import matplotlib.pyplot as plt\n",
        "import time\n",
        "import os\n",
        "import copy\n",
        "from google.colab import drive\n",
        "\n",
        "plt.ion()  \n",
        "\n",
        "use_gpu = torch.cuda.is_available()\n",
        "if use_gpu:\n",
        "    print(\"Using CUDA\")"
      ],
      "execution_count": null,
      "outputs": [
        {
          "output_type": "stream",
          "name": "stdout",
          "text": [
            "Using CUDA\n"
          ]
        }
      ]
    },
    {
      "cell_type": "markdown",
      "metadata": {
        "id": "WVbs0t0tt1sp"
      },
      "source": [
        "# Chuẩn bị dữ liệu"
      ]
    },
    {
      "cell_type": "code",
      "metadata": {
        "colab": {
          "base_uri": "https://localhost:8080/"
        },
        "id": "meyc15cUtuCV",
        "outputId": "87249d7c-799f-4a83-9933-f34083651d58"
      },
      "source": [
        "drive.mount(\"/content/drive\")\n",
        "#https://drive.google.com/file/d/1ef3Nb_e3GeeHRDFmcpmT3K0wW0yKKOxu/view?usp=sharing\n",
        "!unzip -uq \"/content/drive/My Drive/DATA_CHAMBER_2021.zip\" -d \"./\"\n",
        "data_dir = \"DATA_CHAMBER_2021\"\n",
        "TRAIN = 'train'\n",
        "TEST = 'test'"
      ],
      "execution_count": null,
      "outputs": [
        {
          "output_type": "stream",
          "name": "stdout",
          "text": [
            "Mounted at /content/drive\n"
          ]
        }
      ]
    },
    {
      "cell_type": "code",
      "metadata": {
        "id": "e98CQXgbtwy_"
      },
      "source": [
        "data_transforms = {\n",
        "    TRAIN: transforms.Compose([\n",
        "        transforms.Resize((224,224)),\n",
        "        #transforms.RandomEqualize(p=1),\n",
        "        #transforms.GaussianBlur(kernel_size=3),\n",
        "        transforms.RandomHorizontalFlip(p=0.3),\n",
        "        transforms.RandomVerticalFlip(p=0.3),\n",
        "        transforms.RandomRotation(degrees=15),\n",
        "        transforms.ToTensor(),\n",
        "    ]),\n",
        "    TEST: transforms.Compose([\n",
        "        transforms.Resize((224,224)),\n",
        "        #transforms.RandomEqualize(p=1),\n",
        "        #transforms.GaussianBlur(kernel_size=3),\n",
        "        transforms.ToTensor(),\n",
        "    ])\n",
        "}\n",
        "\n",
        "image_datasets = {\n",
        "    x: datasets.ImageFolder(\n",
        "        os.path.join(data_dir, x), \n",
        "        transform=data_transforms[x]\n",
        "    )\n",
        "    for x in [TRAIN, TEST]\n",
        "}\n",
        "\n",
        "dataloaders = {\n",
        "    x: torch.utils.data.DataLoader(\n",
        "        image_datasets[x], batch_size=32,\n",
        "        shuffle=True, num_workers=2\n",
        "    )\n",
        "    for x in [TRAIN, TEST]\n",
        "}\n",
        "\n",
        "dataset_sizes = {x: len(image_datasets[x]) for x in [TRAIN, TEST]}"
      ],
      "execution_count": null,
      "outputs": []
    },
    {
      "cell_type": "code",
      "metadata": {
        "colab": {
          "base_uri": "https://localhost:8080/"
        },
        "id": "cy0gGh5-tzxA",
        "outputId": "702bd97a-7d61-4b2b-a1d8-77781a2e1eb9"
      },
      "source": [
        "for x in [TRAIN, TEST]:\n",
        "    print(\"Loaded {} images under {}\".format(dataset_sizes[x], x))\n",
        "    \n",
        "print(\"Classes: \")\n",
        "class_names = image_datasets[TRAIN].classes\n",
        "print(image_datasets[TRAIN].classes)"
      ],
      "execution_count": null,
      "outputs": [
        {
          "output_type": "stream",
          "name": "stdout",
          "text": [
            "Loaded 6717 images under train\n",
            "Loaded 1607 images under test\n",
            "Classes: \n",
            "['2C', '3C', '4C']\n"
          ]
        }
      ]
    },
    {
      "cell_type": "markdown",
      "metadata": {
        "id": "RbVbFMaut4tw"
      },
      "source": [
        "# Tiện ích"
      ]
    },
    {
      "cell_type": "code",
      "metadata": {
        "colab": {
          "base_uri": "https://localhost:8080/",
          "height": 325
        },
        "id": "9aiHAcfit7Uf",
        "outputId": "3f03f2bf-4b9c-4ae1-abe5-798bad31e43b"
      },
      "source": [
        "def imshow(inp, title=None):\n",
        "    inp = inp.numpy().transpose((1, 2, 0))\n",
        "    plt.figure(figsize=(10, 10))\n",
        "    plt.axis('off')\n",
        "    plt.imshow(inp)\n",
        "    if title is not None:\n",
        "        plt.title(title)\n",
        "    plt.pause(0.001)\n",
        "\n",
        "def show_databatch(inputs, classes):\n",
        "    out = torchvision.utils.make_grid(inputs)\n",
        "    imshow(out, title=[class_names[x] for x in classes])\n",
        "\n",
        "# Get a batch of training data\n",
        "inputs, classes = next(iter(dataloaders[TRAIN]))\n",
        "show_databatch(inputs, classes)"
      ],
      "execution_count": null,
      "outputs": [
        {
          "output_type": "display_data",
          "data": {
            "image/png": "[encoded data removed]",
            "text/plain": [
              "<Figure size 720x720 with 1 Axes>"
            ]
          },
          "metadata": {
            "needs_background": "light"
          }
        }
      ]
    },
    {
      "cell_type": "code",
      "metadata": {
        "id": "4UB1PjXFt96K"
      },
      "source": [
        "def visualize_model(model, num_images=6):\n",
        "    was_training = model.training\n",
        "    \n",
        "    # Set model for evaluation\n",
        "    model.train(False)\n",
        "    model.eval() \n",
        "    \n",
        "    images_so_far = 0\n",
        "\n",
        "    for i, data in enumerate(dataloaders[TEST]):\n",
        "        inputs, labels = data\n",
        "        size = inputs.size()[0]\n",
        "        \n",
        "        if use_gpu:\n",
        "            inputs, labels = Variable(inputs.cuda()), Variable(labels.cuda())\n",
        "        else:\n",
        "            inputs, labels = Variable(inputs), Variable(labels)\n",
        "        \n",
        "        outputs = model(inputs)\n",
        "        \n",
        "        _, preds = torch.max(outputs.data, 1)\n",
        "        predicted_labels = [preds[j] for j in range(inputs.size()[0])]\n",
        "        \n",
        "        print(\"Ground truth:\")\n",
        "        show_databatch(inputs.data.cpu(), labels.data.cpu())\n",
        "        print(\"Prediction:\")\n",
        "        show_databatch(inputs.data.cpu(), predicted_labels)\n",
        "        \n",
        "        del inputs, labels, outputs, preds, predicted_labels\n",
        "        torch.cuda.empty_cache()\n",
        "        \n",
        "        images_so_far += size\n",
        "        if images_so_far >= num_images:\n",
        "            break\n",
        "        \n",
        "    model.train(mode=was_training) # Revert model back to original training state"
      ],
      "execution_count": null,
      "outputs": []
    },
    {
      "cell_type": "code",
      "metadata": {
        "id": "SVxqvIpit_mU"
      },
      "source": [
        "def eval_model(model, criterion):\n",
        "    since = time.time()\n",
        "    avg_loss = 0\n",
        "    avg_acc = 0\n",
        "    loss_test = 0\n",
        "    acc_test = 0\n",
        "    \n",
        "    test_batches = len(dataloaders[TEST])\n",
        "    print(\"Evaluating model\")\n",
        "    print('-' * 10)\n",
        "    \n",
        "    for i, data in enumerate(dataloaders[TEST]):\n",
        "        if i % 10 == 0:\n",
        "            print(\"\\rTest batch {}/{}\".format(i, test_batches), end='', flush=True)\n",
        "\n",
        "        model.train(False)\n",
        "        model.eval()\n",
        "        inputs, labels = data\n",
        "\n",
        "        if use_gpu:\n",
        "            inputs, labels = Variable(inputs.cuda()), Variable(labels.cuda())\n",
        "        else:\n",
        "            inputs, labels = Variable(inputs), Variable(labels)\n",
        "\n",
        "        outputs = model(inputs)\n",
        "\n",
        "        _, preds = torch.max(outputs.data, 1)\n",
        "        loss = criterion(outputs, labels)\n",
        "\n",
        "        loss_test += loss.data\n",
        "        acc_test += torch.sum(preds == labels.data)\n",
        "\n",
        "        del inputs, labels, outputs, preds\n",
        "        torch.cuda.empty_cache()\n",
        "        \n",
        "    avg_loss = loss_test / dataset_sizes[TEST]\n",
        "    avg_acc = acc_test / dataset_sizes[TEST]\n",
        "    \n",
        "    elapsed_time = time.time() - since\n",
        "    print()\n",
        "    print(\"Evaluation completed in {:.0f}m {:.0f}s\".format(elapsed_time // 60, elapsed_time % 60))\n",
        "    print(\"Avg loss (test): {:.4f}\".format(avg_loss))\n",
        "    print(\"Avg acc (test): {:.4f}\".format(avg_acc))\n",
        "    print('-' * 10)"
      ],
      "execution_count": null,
      "outputs": []
    },
    {
      "cell_type": "markdown",
      "metadata": {
        "id": "Ix7gz7basLV6"
      },
      "source": [
        "# Mô hình huấn luyện"
      ]
    },
    {
      "cell_type": "code",
      "metadata": {
        "id": "fnzLadKasOS_"
      },
      "source": [
        "def train_model(model, criterion, optimizer, scheduler, num_epochs=2):\n",
        "    since = time.time()\n",
        "    best_acc = 0.0\n",
        "    \n",
        "    avg_loss = 0\n",
        "    avg_acc = 0\n",
        "    \n",
        "    train_batches = len(dataloaders[TRAIN])\n",
        "    \n",
        "    for epoch in range(num_epochs):\n",
        "        print(\"Epoch {}/{}\".format(epoch, num_epochs))\n",
        "        print('-' * 10)\n",
        "        \n",
        "        loss_train = 0\n",
        "        acc_train = 0\n",
        "        \n",
        "        model.train(True)\n",
        "        \n",
        "        for i, data in enumerate(dataloaders[TRAIN]):\n",
        "            if i % 10 == 0:\n",
        "                print(\"\\rTraining batch {}/{}\".format(i, train_batches), end='', flush=True)\n",
        "                \n",
        "            inputs, labels = data\n",
        "            \n",
        "            if use_gpu:\n",
        "                inputs, labels = Variable(inputs.cuda()), Variable(labels.cuda())\n",
        "            else:\n",
        "                inputs, labels = Variable(inputs), Variable(labels)\n",
        "            \n",
        "            # zero the parameter gradients\n",
        "            optimizer.zero_grad()\n",
        "            \n",
        "            outputs = model(inputs)\n",
        "            \n",
        "            _, preds = torch.max(outputs.data, 1)\n",
        "            loss = criterion(outputs, labels)\n",
        "            \n",
        "            # backward + optimize only if in training phase\n",
        "            loss.backward()\n",
        "            optimizer.step()\n",
        "            \n",
        "            # statistics\n",
        "            loss_train += loss.data\n",
        "            acc_train += torch.sum(preds == labels.data)\n",
        "            \n",
        "            del inputs, labels, outputs, preds\n",
        "            torch.cuda.empty_cache()\n",
        "        \n",
        "        print()\n",
        "        avg_loss = loss_train / dataset_sizes[TRAIN]\n",
        "        avg_acc = acc_train / dataset_sizes[TRAIN]\n",
        "        \n",
        "        model.train(False)\n",
        "        model.eval()\n",
        "        \n",
        "        print()\n",
        "        print(\"Epoch {} result: \".format(epoch))\n",
        "        print(\"Avg loss (train): {:.4f}\".format(avg_loss))\n",
        "        print(\"Avg acc (train): {:.4f}\".format(avg_acc))\n",
        "        print()\n",
        "        \n",
        "        if avg_acc > best_acc:\n",
        "            best_acc = avg_acc\n",
        "        \n",
        "    elapsed_time = time.time() - since\n",
        "    print()\n",
        "    print(\"Training completed in {:.0f}m {:.0f}s\".format(elapsed_time // 60, elapsed_time % 60))\n",
        "    print(\"Best acc: {:.4f}\".format(best_acc))\n",
        "    \n",
        "    return model"
      ],
      "execution_count": null,
      "outputs": []
    },
    {
      "cell_type": "markdown",
      "metadata": {
        "id": "qmxl0X3luNYT"
      },
      "source": [
        "# Huấn luyện"
      ]
    },
    {
      "cell_type": "markdown",
      "metadata": {
        "id": "3DkcEAIfsbS0"
      },
      "source": [
        "## Resnet-50"
      ]
    },
    {
      "cell_type": "code",
      "metadata": {
        "colab": {
          "base_uri": "https://localhost:8080/",
          "height": 67,
          "referenced_widgets": [
            "55bed4a96e654b87969a28a141dbfd04",
            "4c8d1c89b4774957b703fcdc02e6879e",
            "bbc3d0dbf7cf4a8a8881864f3820c3ca",
            "667829a449e642988ce805a51bf143c9",
            "edbd80a2d7fe4bc6aa780d00577b04bc",
            "f30513c1b3674590948c68c6d020b53e",
            "4086e21f82074bbda85b61e8c26e57a8",
            "9525b540c417424a9da8af091db5b930",
            "c0b5a0aef5404f49b8b73608a5efa15b",
            "987894395a5941c6b7b4686eca73e06e",
            "5157a29bf32c485c8b26e22511be71f7"
          ]
        },
        "id": "jxjbN_w_skyK",
        "outputId": "3dee9367-681c-4b95-cef5-d24dbff36d9b"
      },
      "source": [
        "# Tinh chỉnh chuyển đổi\n",
        "# Load the pretrained model from pytorch\n",
        "resnet50 = models.resnet50(pretrained=True)\n",
        "\n",
        "# Freeze training for all layers\n",
        "for param in resnet50.parameters():\n",
        "    param.require_grad = False\n",
        "\n",
        "# Parameters of newly constructed modules have requires_grad=True by default\n",
        "num_features = resnet50.fc.in_features\n",
        "resnet50.fc = nn.Linear(num_features, 3)\n",
        "\n",
        "if use_gpu:\n",
        "    resnet50.cuda() #.cuda() will move everything to the GPU side\n",
        "\n",
        "# Observe that all parameters are being optimized\n",
        "optimizer_ft = optim.SGD(resnet50.parameters(), lr=0.001, momentum=0.9)\n",
        "# Cross Entropy Loss\n",
        "criterion = nn.CrossEntropyLoss()\n",
        "# Decay LR by a factor of 0.1 every 7 epochs\n",
        "exp_lr_scheduler = lr_scheduler.StepLR(optimizer_ft, step_size=7, gamma=0.1)"
      ],
      "execution_count": null,
      "outputs": [
        {
          "output_type": "stream",
          "name": "stderr",
          "text": [
            "Downloading: \"https://download.pytorch.org/models/resnet50-0676ba61.pth\" to /root/.cache/torch/hub/checkpoints/resnet50-0676ba61.pth\n"
          ]
        },
        {
          "output_type": "display_data",
          "data": {
            "application/vnd.jupyter.widget-view+json": {
              "model_id": "55bed4a96e654b87969a28a141dbfd04",
              "version_minor": 0,
              "version_major": 2
            },
            "text/plain": [
              "  0%|          | 0.00/97.8M [00:00<?, ?B/s]"
            ]
          },
          "metadata": {}
        }
      ]
    },
    {
      "cell_type": "code",
      "metadata": {
        "colab": {
          "base_uri": "https://localhost:8080/"
        },
        "id": "McsdMliOuS_m",
        "outputId": "2142be18-e004-4fee-b722-3fc638eeb760"
      },
      "source": [
        "# Thực hiện huấn luyện\n",
        "resnet50 = train_model(resnet50, criterion, optimizer_ft, exp_lr_scheduler, num_epochs=7)"
      ],
      "execution_count": null,
      "outputs": [
        {
          "output_type": "stream",
          "name": "stdout",
          "text": [
            "Epoch 0/7\n",
            "----------\n",
            "Training batch 200/210\n",
            "\n",
            "Epoch 0 result: \n",
            "Avg loss (train): 0.0163\n",
            "Avg acc (train): 0.7797\n",
            "\n",
            "Epoch 1/7\n",
            "----------\n",
            "Training batch 200/210\n",
            "\n",
            "Epoch 1 result: \n",
            "Avg loss (train): 0.0024\n",
            "Avg acc (train): 0.9766\n",
            "\n",
            "Epoch 2/7\n",
            "----------\n",
            "Training batch 200/210\n",
            "\n",
            "Epoch 2 result: \n",
            "Avg loss (train): 0.0013\n",
            "Avg acc (train): 0.9891\n",
            "\n",
            "Epoch 3/7\n",
            "----------\n",
            "Training batch 200/210\n",
            "\n",
            "Epoch 3 result: \n",
            "Avg loss (train): 0.0006\n",
            "Avg acc (train): 0.9952\n",
            "\n",
            "Epoch 4/7\n",
            "----------\n",
            "Training batch 200/210\n",
            "\n",
            "Epoch 4 result: \n",
            "Avg loss (train): 0.0004\n",
            "Avg acc (train): 0.9973\n",
            "\n",
            "Epoch 5/7\n",
            "----------\n",
            "Training batch 200/210\n",
            "\n",
            "Epoch 5 result: \n",
            "Avg loss (train): 0.0004\n",
            "Avg acc (train): 0.9970\n",
            "\n",
            "Epoch 6/7\n",
            "----------\n",
            "Training batch 200/210\n",
            "\n",
            "Epoch 6 result: \n",
            "Avg loss (train): 0.0004\n",
            "Avg acc (train): 0.9969\n",
            "\n",
            "\n",
            "Training completed in 22m 27s\n",
            "Best acc: 0.9973\n"
          ]
        }
      ]
    },
    {
      "cell_type": "markdown",
      "metadata": {
        "id": "eu2m6XHGs10n"
      },
      "source": [
        "## VGG-16"
      ]
    },
    {
      "cell_type": "code",
      "metadata": {
        "colab": {
          "base_uri": "https://localhost:8080/",
          "height": 104,
          "referenced_widgets": [
            "22058224c7d747e59703f9b06dcdd05d",
            "a279d28652744d26a4ba8af2cf223524",
            "e7f48e4c5c1f47d3b98c8e6d299864d7",
            "a794ffcd6c8443b785585e9fe79f733c",
            "1910681776d14fa3924da15a7edabe1b",
            "27d4474d81594a0fa77a63cd70cae375",
            "1ef1a6126405411ab342450eee6bf149",
            "67f096ca1bab4d44ac118100433a61c5",
            "9b24a6a317b74f5aa998efadf7dd73b5",
            "49e9b17c41314654ad0246d0d9fab7ee",
            "4efddbe5d610446284c511c8a29320bc"
          ]
        },
        "id": "x8XTdeKVs4Kd",
        "outputId": "70204d54-aae1-4bdd-c68e-d2cc6d2ffa55"
      },
      "source": [
        "# Tinh chỉnh chuyển đổi\n",
        "vgg16 = models.vgg16_bn(pretrained=True)\n",
        "print(vgg16.classifier[6].out_features) # 1000 \n",
        "\n",
        "for param in vgg16.features.parameters():\n",
        "    param.require_grad = False\n",
        "\n",
        "num_features = vgg16.classifier[6].in_features\n",
        "vgg16.classifier[6] = nn.Linear(num_features, 3)\n",
        "print(vgg16.classifier[6].out_features) # 3\n",
        "#print(vgg16)\n",
        "\n",
        "if use_gpu:\n",
        "    vgg16.cuda()\n",
        "\n",
        "optimizer_ft = optim.SGD(vgg16.parameters(), lr=0.001, momentum=0.9)\n",
        "criterion = nn.CrossEntropyLoss()\n",
        "exp_lr_scheduler = lr_scheduler.StepLR(optimizer_ft, step_size=7, gamma=0.1)"
      ],
      "execution_count": null,
      "outputs": [
        {
          "output_type": "stream",
          "name": "stderr",
          "text": [
            "Downloading: \"https://download.pytorch.org/models/vgg16_bn-6c64b313.pth\" to /root/.cache/torch/hub/checkpoints/vgg16_bn-6c64b313.pth\n"
          ]
        },
        {
          "output_type": "display_data",
          "data": {
            "application/vnd.jupyter.widget-view+json": {
              "model_id": "22058224c7d747e59703f9b06dcdd05d",
              "version_minor": 0,
              "version_major": 2
            },
            "text/plain": [
              "  0%|          | 0.00/528M [00:00<?, ?B/s]"
            ]
          },
          "metadata": {}
        },
        {
          "output_type": "stream",
          "name": "stdout",
          "text": [
            "1000\n",
            "3\n"
          ]
        }
      ]
    },
    {
      "cell_type": "code",
      "metadata": {
        "colab": {
          "base_uri": "https://localhost:8080/"
        },
        "id": "FwxZqnaXuU06",
        "outputId": "f7ef44f9-6cd7-48d5-cd23-59d0a897367b"
      },
      "source": [
        "# Thực hiện huấn luyện\n",
        "vgg16 = train_model(vgg16, criterion, optimizer_ft, exp_lr_scheduler, num_epochs=7)"
      ],
      "execution_count": null,
      "outputs": [
        {
          "output_type": "stream",
          "name": "stdout",
          "text": [
            "Epoch 0/7\n",
            "----------\n",
            "Training batch 200/210\n",
            "\n",
            "Epoch 0 result: \n",
            "Avg loss (train): 0.0167\n",
            "Avg acc (train): 0.7619\n",
            "\n",
            "Epoch 1/7\n",
            "----------\n",
            "Training batch 200/210\n",
            "\n",
            "Epoch 1 result: \n",
            "Avg loss (train): 0.0034\n",
            "Avg acc (train): 0.9620\n",
            "\n",
            "Epoch 2/7\n",
            "----------\n",
            "Training batch 200/210\n",
            "\n",
            "Epoch 2 result: \n",
            "Avg loss (train): 0.0015\n",
            "Avg acc (train): 0.9841\n",
            "\n",
            "Epoch 3/7\n",
            "----------\n",
            "Training batch 200/210\n",
            "\n",
            "Epoch 3 result: \n",
            "Avg loss (train): 0.0011\n",
            "Avg acc (train): 0.9882\n",
            "\n",
            "Epoch 4/7\n",
            "----------\n",
            "Training batch 200/210\n",
            "\n",
            "Epoch 4 result: \n",
            "Avg loss (train): 0.0006\n",
            "Avg acc (train): 0.9926\n",
            "\n",
            "Epoch 5/7\n",
            "----------\n",
            "Training batch 200/210\n",
            "\n",
            "Epoch 5 result: \n",
            "Avg loss (train): 0.0004\n",
            "Avg acc (train): 0.9966\n",
            "\n",
            "Epoch 6/7\n",
            "----------\n",
            "Training batch 200/210\n",
            "\n",
            "Epoch 6 result: \n",
            "Avg loss (train): 0.0003\n",
            "Avg acc (train): 0.9970\n",
            "\n",
            "\n",
            "Training completed in 33m 38s\n",
            "Best acc: 0.9970\n"
          ]
        }
      ]
    },
    {
      "cell_type": "markdown",
      "metadata": {
        "id": "PXnJL6LrtDsO"
      },
      "source": [
        "## Densenet-121"
      ]
    },
    {
      "cell_type": "code",
      "metadata": {
        "colab": {
          "base_uri": "https://localhost:8080/",
          "referenced_widgets": [
            "2e6082e813cb4b0f9d0236be811d0d09",
            "5885d33322c44bd596fd42d867d00e96",
            "24a43b1f74d94a5fafac066f971ce912",
            "9200c532911648a19e6ba4a99565f69d",
            "a43cee2944d54ae6a1bf9e5cb16645ff",
            "bcf2bd47415249dd8cadaaf80ad58355",
            "c8da982cb31a4196843d602d1f730a96",
            "e1732e8b9a3d49d1a1b335f3cc73306a",
            "155e5f7a621b4616a48c77670d76292d",
            "52cac379fb0e4cc28e4a97fd587fa45b",
            "ffe1a065ee10480587063e7f93c99845"
          ]
        },
        "id": "eegAsOcstJ74",
        "outputId": "49c2826b-0b43-4cf3-935e-b9cf9e328714"
      },
      "source": [
        "# Densenet-121\n",
        "densenet = models.densenet121(pretrained=True)\n",
        "print(densenet.classifier.out_features) # 1000 \n",
        "\n",
        "for param in densenet.parameters():\n",
        "    param.require_grad = False\n",
        "\n",
        "num_features = densenet.classifier.in_features\n",
        "densenet.classifier = nn.Linear(num_features, 3)\n",
        "print(densenet.classifier.out_features) # 3\n",
        "\n",
        "if use_gpu:\n",
        "    densenet.cuda()\n",
        "\n",
        "optimizer_ft = optim.SGD(densenet.parameters(), lr=0.001, momentum=0.9)\n",
        "criterion = nn.CrossEntropyLoss()\n",
        "exp_lr_scheduler = lr_scheduler.StepLR(optimizer_ft, step_size=7, gamma=0.1)"
      ],
      "execution_count": null,
      "outputs": [
        {
          "output_type": "stream",
          "name": "stderr",
          "text": [
            "Downloading: \"https://download.pytorch.org/models/densenet121-a639ec97.pth\" to /root/.cache/torch/hub/checkpoints/densenet121-a639ec97.pth\n"
          ]
        },
        {
          "output_type": "display_data",
          "data": {
            "application/vnd.jupyter.widget-view+json": {
              "model_id": "2e6082e813cb4b0f9d0236be811d0d09",
              "version_minor": 0,
              "version_major": 2
            },
            "text/plain": [
              "  0%|          | 0.00/30.8M [00:00<?, ?B/s]"
            ]
          },
          "metadata": {}
        },
        {
          "output_type": "stream",
          "name": "stdout",
          "text": [
            "1000\n",
            "3\n"
          ]
        }
      ]
    },
    {
      "cell_type": "code",
      "metadata": {
        "colab": {
          "base_uri": "https://localhost:8080/"
        },
        "id": "KiuTDFlhEXMF",
        "outputId": "96f264e0-286a-47e1-9f74-b50637338dfe"
      },
      "source": [
        "# Thực hiện huấn luyện\n",
        "densenet = train_model(densenet, criterion, optimizer_ft, exp_lr_scheduler, num_epochs=7)"
      ],
      "execution_count": null,
      "outputs": [
        {
          "output_type": "stream",
          "name": "stdout",
          "text": [
            "Epoch 0/7\n",
            "----------\n",
            "Training batch 200/210\n",
            "\n",
            "Epoch 0 result: \n",
            "Avg loss (train): 0.0157\n",
            "Avg acc (train): 0.7931\n",
            "\n",
            "Epoch 1/7\n",
            "----------\n",
            "Training batch 200/210\n",
            "\n",
            "Epoch 1 result: \n",
            "Avg loss (train): 0.0025\n",
            "Avg acc (train): 0.9789\n",
            "\n",
            "Epoch 2/7\n",
            "----------\n",
            "Training batch 200/210\n",
            "\n",
            "Epoch 2 result: \n",
            "Avg loss (train): 0.0011\n",
            "Avg acc (train): 0.9918\n",
            "\n",
            "Epoch 3/7\n",
            "----------\n",
            "Training batch 200/210\n",
            "\n",
            "Epoch 3 result: \n",
            "Avg loss (train): 0.0007\n",
            "Avg acc (train): 0.9945\n",
            "\n",
            "Epoch 4/7\n",
            "----------\n",
            "Training batch 200/210\n",
            "\n",
            "Epoch 4 result: \n",
            "Avg loss (train): 0.0004\n",
            "Avg acc (train): 0.9967\n",
            "\n",
            "Epoch 5/7\n",
            "----------\n",
            "Training batch 200/210\n",
            "\n",
            "Epoch 5 result: \n",
            "Avg loss (train): 0.0002\n",
            "Avg acc (train): 0.9988\n",
            "\n",
            "Epoch 6/7\n",
            "----------\n",
            "Training batch 200/210\n",
            "\n",
            "Epoch 6 result: \n",
            "Avg loss (train): 0.0002\n",
            "Avg acc (train): 0.9985\n",
            "\n",
            "\n",
            "Training completed in 24m 42s\n",
            "Best acc: 0.9988\n"
          ]
        }
      ]
    },
    {
      "cell_type": "markdown",
      "metadata": {
        "id": "dGNXML0duWYg"
      },
      "source": [
        "# Đánh giá"
      ]
    },
    {
      "cell_type": "code",
      "metadata": {
        "id": "vq6aIdeLuZGe"
      },
      "source": [
        "# ResNet-50\n",
        "print(\"Test ResNet-50 after training\")\n",
        "eval_model(resnet50, criterion)\n",
        "visualize_model(resnet50, num_images=32)"
      ],
      "execution_count": null,
      "outputs": []
    },
    {
      "cell_type": "code",
      "metadata": {
        "id": "8ejyiwISuaob"
      },
      "source": [
        "# VGG-16\n",
        "print(\"Test VGG-16 after training\")\n",
        "eval_model(vgg16, criterion)\n",
        "visualize_model(vgg16, num_images=32)"
      ],
      "execution_count": null,
      "outputs": []
    },
    {
      "cell_type": "code",
      "metadata": {
        "id": "zYirZRkEEjHU"
      },
      "source": [
        "# Densenet-121\n",
        "print(\"Test Densenet-121 after training\")\n",
        "eval_model(densenet, criterion)\n",
        "visualize_model(densenet, num_images=32)"
      ],
      "execution_count": null,
      "outputs": []
    }
  ]
}